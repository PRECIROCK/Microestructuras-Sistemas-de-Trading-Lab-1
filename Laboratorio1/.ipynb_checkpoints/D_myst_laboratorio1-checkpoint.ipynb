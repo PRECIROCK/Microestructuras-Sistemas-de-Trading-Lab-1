{
 "cells": [
  {
   "cell_type": "markdown",
   "metadata": {},
   "source": [
    "# <font color=\"blue\"> Administración Activa vs Administración Pasiva del Capita </font>"
   ]
  },
  {
   "cell_type": "markdown",
   "metadata": {},
   "source": [
    "### Equipo D\n",
    "\n",
    "\n",
    "Axel Munguía\n",
    "\n",
    "Esteban Navarrete\n",
    "\n",
    "Alejandro Preciado\n",
    "\n",
    "José Antonio Quintero"
   ]
  },
  {
   "cell_type": "markdown",
   "metadata": {},
   "source": [
    "**Situación**"
   ]
  },
  {
   "cell_type": "markdown",
   "metadata": {},
   "source": [
    "Acabas de entrar a trabajar a una operadora de fondos de inversión como analista financiero dentro de la mesa de análisis del mercado de renta variable. En la junta trimestral se plantea la posibilidad de crear un fondo propio con exposición al mercado de valores de USA tratando de replicar a los ETFs conocidos como ishares que la empresa BlackRock ofrece.\n",
    "\n",
    "La idea es replicar un ETF con posiciones en directo. Te han asignado la tarea de hacer un ejercicio simple de replicar la construcción de un portafolio de inversión y un criterio de rebalanceo lo más parecido a un ETF de ishares que tu selecciones. Esto con la finalidad de comparar los resultados de haber rebalanceado periódicamente el portafolio, ó, no haberlo hecho y continuar todo un año con las mismas posiciones."
   ]
  },
  {
   "cell_type": "markdown",
   "metadata": {},
   "source": [
    "### ETF a utilizar: iShares Core S&P 500 ETF"
   ]
  },
  {
   "cell_type": "code",
   "execution_count": 1,
   "metadata": {},
   "outputs": [],
   "source": [
    "import pandas as pd\n",
    "import numpy as np\n",
    "import matplotlib.pyplot as plt\n",
    "from matplotlib import style\n",
    "import pandas as pd\n",
    "pd.core.common.is_list_like = pd.api.types.is_list_like\n",
    "import pandas_datareader.data as web \n",
    "style.use(\"ggplot\")"
   ]
  },
  {
   "cell_type": "markdown",
   "metadata": {},
   "source": [
    "# Análisis de S&P 500 ETF (Febrero 2018)"
   ]
  },
  {
   "cell_type": "code",
   "execution_count": 3,
   "metadata": {},
   "outputs": [
    {
     "data": {
      "text/html": [
       "<div>\n",
       "<style scoped>\n",
       "    .dataframe tbody tr th:only-of-type {\n",
       "        vertical-align: middle;\n",
       "    }\n",
       "\n",
       "    .dataframe tbody tr th {\n",
       "        vertical-align: top;\n",
       "    }\n",
       "\n",
       "    .dataframe thead th {\n",
       "        text-align: right;\n",
       "    }\n",
       "</style>\n",
       "<table border=\"1\" class=\"dataframe\">\n",
       "  <thead>\n",
       "    <tr style=\"text-align: right;\">\n",
       "      <th></th>\n",
       "      <th>Ticker</th>\n",
       "      <th>Name</th>\n",
       "      <th>Asset Class</th>\n",
       "      <th>Weight (%)</th>\n",
       "      <th>Price</th>\n",
       "      <th>Shares</th>\n",
       "      <th>Market Value</th>\n",
       "      <th>Notional Value</th>\n",
       "      <th>Sector</th>\n",
       "      <th>SEDOL</th>\n",
       "      <th>ISIN</th>\n",
       "      <th>Exchange</th>\n",
       "    </tr>\n",
       "  </thead>\n",
       "  <tbody>\n",
       "    <tr>\n",
       "      <th>0</th>\n",
       "      <td>AAPL</td>\n",
       "      <td>APPLE INC</td>\n",
       "      <td>Equity</td>\n",
       "      <td>3.93</td>\n",
       "      <td>178.12</td>\n",
       "      <td>34,128,429.00</td>\n",
       "      <td>6,078,955,773.48</td>\n",
       "      <td>6,078,955,773.48</td>\n",
       "      <td>Information Technology</td>\n",
       "      <td>2046251</td>\n",
       "      <td>US0378331005</td>\n",
       "      <td>NASDAQ</td>\n",
       "    </tr>\n",
       "    <tr>\n",
       "      <th>1</th>\n",
       "      <td>MSFT</td>\n",
       "      <td>MICROSOFT CORP</td>\n",
       "      <td>Equity</td>\n",
       "      <td>3.11</td>\n",
       "      <td>93.77</td>\n",
       "      <td>51,279,537.00</td>\n",
       "      <td>4,808,482,184.49</td>\n",
       "      <td>4,808,482,184.49</td>\n",
       "      <td>Information Technology</td>\n",
       "      <td>2588173</td>\n",
       "      <td>US5949181045</td>\n",
       "      <td>NASDAQ</td>\n",
       "    </tr>\n",
       "    <tr>\n",
       "      <th>2</th>\n",
       "      <td>AMZN</td>\n",
       "      <td>AMAZON COM INC</td>\n",
       "      <td>Equity</td>\n",
       "      <td>2.60</td>\n",
       "      <td>1,512.45</td>\n",
       "      <td>2,658,635.00</td>\n",
       "      <td>4,021,052,505.75</td>\n",
       "      <td>4,021,052,505.75</td>\n",
       "      <td>Consumer Discretionary</td>\n",
       "      <td>2000019</td>\n",
       "      <td>US0231351067</td>\n",
       "      <td>NASDAQ</td>\n",
       "    </tr>\n",
       "    <tr>\n",
       "      <th>3</th>\n",
       "      <td>FB</td>\n",
       "      <td>FACEBOOK CLASS A INC</td>\n",
       "      <td>Equity</td>\n",
       "      <td>1.83</td>\n",
       "      <td>178.32</td>\n",
       "      <td>15,851,657.00</td>\n",
       "      <td>2,826,667,476.24</td>\n",
       "      <td>2,826,667,476.24</td>\n",
       "      <td>Information Technology</td>\n",
       "      <td>B7TL820</td>\n",
       "      <td>US30303M1027</td>\n",
       "      <td>NASDAQ</td>\n",
       "    </tr>\n",
       "    <tr>\n",
       "      <th>4</th>\n",
       "      <td>JPM</td>\n",
       "      <td>JPMORGAN CHASE &amp; CO</td>\n",
       "      <td>Equity</td>\n",
       "      <td>1.72</td>\n",
       "      <td>115.5</td>\n",
       "      <td>23,063,215.00</td>\n",
       "      <td>2,663,801,332.50</td>\n",
       "      <td>2,663,801,332.50</td>\n",
       "      <td>Financials</td>\n",
       "      <td>2190385</td>\n",
       "      <td>US46625H1005</td>\n",
       "      <td>New York Stock Exchange Inc.</td>\n",
       "    </tr>\n",
       "  </tbody>\n",
       "</table>\n",
       "</div>"
      ],
      "text/plain": [
       "  Ticker                  Name Asset Class  Weight (%)     Price  \\\n",
       "0   AAPL             APPLE INC      Equity        3.93    178.12   \n",
       "1   MSFT        MICROSOFT CORP      Equity        3.11     93.77   \n",
       "2   AMZN        AMAZON COM INC      Equity        2.60  1,512.45   \n",
       "3     FB  FACEBOOK CLASS A INC      Equity        1.83    178.32   \n",
       "4    JPM   JPMORGAN CHASE & CO      Equity        1.72     115.5   \n",
       "\n",
       "          Shares      Market Value    Notional Value                  Sector  \\\n",
       "0  34,128,429.00  6,078,955,773.48  6,078,955,773.48  Information Technology   \n",
       "1  51,279,537.00  4,808,482,184.49  4,808,482,184.49  Information Technology   \n",
       "2   2,658,635.00  4,021,052,505.75  4,021,052,505.75  Consumer Discretionary   \n",
       "3  15,851,657.00  2,826,667,476.24  2,826,667,476.24  Information Technology   \n",
       "4  23,063,215.00  2,663,801,332.50  2,663,801,332.50              Financials   \n",
       "\n",
       "     SEDOL          ISIN                      Exchange  \n",
       "0  2046251  US0378331005                        NASDAQ  \n",
       "1  2588173  US5949181045                        NASDAQ  \n",
       "2  2000019  US0231351067                        NASDAQ  \n",
       "3  B7TL820  US30303M1027                        NASDAQ  \n",
       "4  2190385  US46625H1005  New York Stock Exchange Inc.  "
      ]
     },
     "execution_count": 3,
     "metadata": {},
     "output_type": "execute_result"
    }
   ],
   "source": [
    "# Cabecera del ETF\n",
    "data = pd.read_csv(\"../Datos/Febrero_2018.csv\",skiprows=10)\n",
    "data_ = data.iloc[:-2,:]\n",
    "data_.head()"
   ]
  },
  {
   "cell_type": "code",
   "execution_count": 4,
   "metadata": {},
   "outputs": [
    {
     "data": {
      "text/html": [
       "<div>\n",
       "<style scoped>\n",
       "    .dataframe tbody tr th:only-of-type {\n",
       "        vertical-align: middle;\n",
       "    }\n",
       "\n",
       "    .dataframe tbody tr th {\n",
       "        vertical-align: top;\n",
       "    }\n",
       "\n",
       "    .dataframe thead th {\n",
       "        text-align: right;\n",
       "    }\n",
       "</style>\n",
       "<table border=\"1\" class=\"dataframe\">\n",
       "  <thead>\n",
       "    <tr style=\"text-align: right;\">\n",
       "      <th></th>\n",
       "      <th>Ticker</th>\n",
       "      <th>Name</th>\n",
       "      <th>Asset Class</th>\n",
       "      <th>Weight (%)</th>\n",
       "      <th>Price</th>\n",
       "      <th>Shares</th>\n",
       "      <th>Market Value</th>\n",
       "      <th>Notional Value</th>\n",
       "      <th>Sector</th>\n",
       "      <th>SEDOL</th>\n",
       "      <th>ISIN</th>\n",
       "      <th>Exchange</th>\n",
       "    </tr>\n",
       "  </thead>\n",
       "  <tbody>\n",
       "    <tr>\n",
       "      <th>503</th>\n",
       "      <td>RRC</td>\n",
       "      <td>RANGE RESOURCES CORP</td>\n",
       "      <td>Equity</td>\n",
       "      <td>0.01</td>\n",
       "      <td>13.29</td>\n",
       "      <td>1,502,148.00</td>\n",
       "      <td>19,963,546.92</td>\n",
       "      <td>19,963,546.92</td>\n",
       "      <td>Energy</td>\n",
       "      <td>2523334</td>\n",
       "      <td>US75281A1097</td>\n",
       "      <td>New York Stock Exchange Inc.</td>\n",
       "    </tr>\n",
       "    <tr>\n",
       "      <th>504</th>\n",
       "      <td>UA</td>\n",
       "      <td>UNDER ARMOUR INC CLASS C</td>\n",
       "      <td>Equity</td>\n",
       "      <td>0.01</td>\n",
       "      <td>15.05</td>\n",
       "      <td>1,179,518.00</td>\n",
       "      <td>17,751,745.90</td>\n",
       "      <td>17,751,745.90</td>\n",
       "      <td>Consumer Discretionary</td>\n",
       "      <td>BDF9YM2</td>\n",
       "      <td>US9043112062</td>\n",
       "      <td>New York Stock Exchange Inc.</td>\n",
       "    </tr>\n",
       "    <tr>\n",
       "      <th>505</th>\n",
       "      <td>PDCO</td>\n",
       "      <td>PATTERSON COMPANIES INC</td>\n",
       "      <td>Equity</td>\n",
       "      <td>0.01</td>\n",
       "      <td>31.58</td>\n",
       "      <td>558,448.00</td>\n",
       "      <td>17,635,787.84</td>\n",
       "      <td>17,635,787.84</td>\n",
       "      <td>Health Care</td>\n",
       "      <td>2672689</td>\n",
       "      <td>US7033951036</td>\n",
       "      <td>NASDAQ</td>\n",
       "    </tr>\n",
       "    <tr>\n",
       "      <th>506</th>\n",
       "      <td>CHK</td>\n",
       "      <td>CHESAPEAKE ENERGY CORP</td>\n",
       "      <td>Equity</td>\n",
       "      <td>0.01</td>\n",
       "      <td>2.82</td>\n",
       "      <td>6,038,886.00</td>\n",
       "      <td>17,029,658.52</td>\n",
       "      <td>17,029,658.52</td>\n",
       "      <td>Energy</td>\n",
       "      <td>2182779</td>\n",
       "      <td>US1651671075</td>\n",
       "      <td>New York Stock Exchange Inc.</td>\n",
       "    </tr>\n",
       "    <tr>\n",
       "      <th>507</th>\n",
       "      <td>NWS</td>\n",
       "      <td>NEWS CORP CLASS B</td>\n",
       "      <td>Equity</td>\n",
       "      <td>0.01</td>\n",
       "      <td>16.4</td>\n",
       "      <td>791,807.00</td>\n",
       "      <td>12,985,634.80</td>\n",
       "      <td>12,985,634.80</td>\n",
       "      <td>Consumer Discretionary</td>\n",
       "      <td>BBGVT51</td>\n",
       "      <td>US65249B2088</td>\n",
       "      <td>NASDAQ</td>\n",
       "    </tr>\n",
       "  </tbody>\n",
       "</table>\n",
       "</div>"
      ],
      "text/plain": [
       "    Ticker                      Name Asset Class  Weight (%)  Price  \\\n",
       "503    RRC      RANGE RESOURCES CORP      Equity        0.01  13.29   \n",
       "504     UA  UNDER ARMOUR INC CLASS C      Equity        0.01  15.05   \n",
       "505   PDCO   PATTERSON COMPANIES INC      Equity        0.01  31.58   \n",
       "506    CHK    CHESAPEAKE ENERGY CORP      Equity        0.01   2.82   \n",
       "507    NWS         NEWS CORP CLASS B      Equity        0.01   16.4   \n",
       "\n",
       "           Shares   Market Value Notional Value                  Sector  \\\n",
       "503  1,502,148.00  19,963,546.92  19,963,546.92                  Energy   \n",
       "504  1,179,518.00  17,751,745.90  17,751,745.90  Consumer Discretionary   \n",
       "505    558,448.00  17,635,787.84  17,635,787.84             Health Care   \n",
       "506  6,038,886.00  17,029,658.52  17,029,658.52                  Energy   \n",
       "507    791,807.00  12,985,634.80  12,985,634.80  Consumer Discretionary   \n",
       "\n",
       "       SEDOL          ISIN                      Exchange  \n",
       "503  2523334  US75281A1097  New York Stock Exchange Inc.  \n",
       "504  BDF9YM2  US9043112062  New York Stock Exchange Inc.  \n",
       "505  2672689  US7033951036                        NASDAQ  \n",
       "506  2182779  US1651671075  New York Stock Exchange Inc.  \n",
       "507  BBGVT51  US65249B2088                        NASDAQ  "
      ]
     },
     "execution_count": 4,
     "metadata": {},
     "output_type": "execute_result"
    }
   ],
   "source": [
    "# Cola del ETF\n",
    "data_.tail()"
   ]
  },
  {
   "cell_type": "code",
   "execution_count": 5,
   "metadata": {},
   "outputs": [
    {
     "data": {
      "text/html": [
       "<div>\n",
       "<style scoped>\n",
       "    .dataframe tbody tr th:only-of-type {\n",
       "        vertical-align: middle;\n",
       "    }\n",
       "\n",
       "    .dataframe tbody tr th {\n",
       "        vertical-align: top;\n",
       "    }\n",
       "\n",
       "    .dataframe thead th {\n",
       "        text-align: right;\n",
       "    }\n",
       "</style>\n",
       "<table border=\"1\" class=\"dataframe\">\n",
       "  <thead>\n",
       "    <tr style=\"text-align: right;\">\n",
       "      <th></th>\n",
       "      <th>Ticker</th>\n",
       "      <th>Name</th>\n",
       "      <th>Asset Class</th>\n",
       "      <th>Weight (%)</th>\n",
       "      <th>Price</th>\n",
       "      <th>Shares</th>\n",
       "      <th>Market Value</th>\n",
       "      <th>Notional Value</th>\n",
       "      <th>Sector</th>\n",
       "      <th>SEDOL</th>\n",
       "      <th>ISIN</th>\n",
       "      <th>Exchange</th>\n",
       "    </tr>\n",
       "  </thead>\n",
       "  <tbody>\n",
       "    <tr>\n",
       "      <th>505</th>\n",
       "      <td>PDCO</td>\n",
       "      <td>PATTERSON COMPANIES INC</td>\n",
       "      <td>Equity</td>\n",
       "      <td>0.01</td>\n",
       "      <td>31.58</td>\n",
       "      <td>558,448.00</td>\n",
       "      <td>17,635,787.84</td>\n",
       "      <td>17,635,787.84</td>\n",
       "      <td>Health Care</td>\n",
       "      <td>2672689</td>\n",
       "      <td>US7033951036</td>\n",
       "      <td>NASDAQ</td>\n",
       "    </tr>\n",
       "    <tr>\n",
       "      <th>506</th>\n",
       "      <td>CHK</td>\n",
       "      <td>CHESAPEAKE ENERGY CORP</td>\n",
       "      <td>Equity</td>\n",
       "      <td>0.01</td>\n",
       "      <td>2.82</td>\n",
       "      <td>6,038,886.00</td>\n",
       "      <td>17,029,658.52</td>\n",
       "      <td>17,029,658.52</td>\n",
       "      <td>Energy</td>\n",
       "      <td>2182779</td>\n",
       "      <td>US1651671075</td>\n",
       "      <td>New York Stock Exchange Inc.</td>\n",
       "    </tr>\n",
       "    <tr>\n",
       "      <th>507</th>\n",
       "      <td>NWS</td>\n",
       "      <td>NEWS CORP CLASS B</td>\n",
       "      <td>Equity</td>\n",
       "      <td>0.01</td>\n",
       "      <td>16.4</td>\n",
       "      <td>791,807.00</td>\n",
       "      <td>12,985,634.80</td>\n",
       "      <td>12,985,634.80</td>\n",
       "      <td>Consumer Discretionary</td>\n",
       "      <td>BBGVT51</td>\n",
       "      <td>US65249B2088</td>\n",
       "      <td>NASDAQ</td>\n",
       "    </tr>\n",
       "    <tr>\n",
       "      <th>508</th>\n",
       "      <td>ESH8</td>\n",
       "      <td>S&amp;P500 EMINI MAR 18</td>\n",
       "      <td>Futures</td>\n",
       "      <td>0.00</td>\n",
       "      <td>2,714.40</td>\n",
       "      <td>5,669.00</td>\n",
       "      <td>0</td>\n",
       "      <td>769,396,680.00</td>\n",
       "      <td>Cash and/or Derivatives</td>\n",
       "      <td>-</td>\n",
       "      <td>-</td>\n",
       "      <td>Index And Options Market</td>\n",
       "    </tr>\n",
       "    <tr>\n",
       "      <th>509</th>\n",
       "      <td></td>\n",
       "      <td>NaN</td>\n",
       "      <td>NaN</td>\n",
       "      <td>NaN</td>\n",
       "      <td>NaN</td>\n",
       "      <td>NaN</td>\n",
       "      <td>NaN</td>\n",
       "      <td>NaN</td>\n",
       "      <td>NaN</td>\n",
       "      <td>NaN</td>\n",
       "      <td>NaN</td>\n",
       "      <td>NaN</td>\n",
       "    </tr>\n",
       "  </tbody>\n",
       "</table>\n",
       "</div>"
      ],
      "text/plain": [
       "    Ticker                     Name Asset Class  Weight (%)     Price  \\\n",
       "505   PDCO  PATTERSON COMPANIES INC      Equity        0.01     31.58   \n",
       "506    CHK   CHESAPEAKE ENERGY CORP      Equity        0.01      2.82   \n",
       "507    NWS        NEWS CORP CLASS B      Equity        0.01      16.4   \n",
       "508   ESH8      S&P500 EMINI MAR 18     Futures        0.00  2,714.40   \n",
       "509                             NaN         NaN         NaN       NaN   \n",
       "\n",
       "           Shares   Market Value  Notional Value                   Sector  \\\n",
       "505    558,448.00  17,635,787.84   17,635,787.84              Health Care   \n",
       "506  6,038,886.00  17,029,658.52   17,029,658.52                   Energy   \n",
       "507    791,807.00  12,985,634.80   12,985,634.80   Consumer Discretionary   \n",
       "508      5,669.00              0  769,396,680.00  Cash and/or Derivatives   \n",
       "509           NaN            NaN             NaN                      NaN   \n",
       "\n",
       "       SEDOL          ISIN                      Exchange  \n",
       "505  2672689  US7033951036                        NASDAQ  \n",
       "506  2182779  US1651671075  New York Stock Exchange Inc.  \n",
       "507  BBGVT51  US65249B2088                        NASDAQ  \n",
       "508        -             -      Index And Options Market  \n",
       "509      NaN           NaN                           NaN  "
      ]
     },
     "execution_count": 5,
     "metadata": {},
     "output_type": "execute_result"
    }
   ],
   "source": [
    "data.tail() # Si no se remueven los últimos dos valores"
   ]
  },
  {
   "cell_type": "code",
   "execution_count": 6,
   "metadata": {},
   "outputs": [
    {
     "data": {
      "text/plain": [
       "(508, 12)"
      ]
     },
     "execution_count": 6,
     "metadata": {},
     "output_type": "execute_result"
    }
   ],
   "source": [
    "data_.shape"
   ]
  },
  {
   "cell_type": "code",
   "execution_count": 7,
   "metadata": {},
   "outputs": [
    {
     "data": {
      "text/plain": [
       "Ticker             object\n",
       "Name               object\n",
       "Asset Class        object\n",
       "Weight (%)        float64\n",
       "Price              object\n",
       "Shares             object\n",
       "Market Value       object\n",
       "Notional Value     object\n",
       "Sector             object\n",
       "SEDOL              object\n",
       "ISIN               object\n",
       "Exchange           object\n",
       "dtype: object"
      ]
     },
     "execution_count": 7,
     "metadata": {},
     "output_type": "execute_result"
    }
   ],
   "source": [
    "data_.dtypes"
   ]
  },
  {
   "cell_type": "markdown",
   "metadata": {},
   "source": [
    "**Conocer la frecuencia de cada Sector presente en el ETF**"
   ]
  },
  {
   "cell_type": "code",
   "execution_count": 8,
   "metadata": {},
   "outputs": [],
   "source": [
    "# Nos autentificamos\n",
    "import plotly.plotly as py\n",
    "import plotly.graph_objs as go\n",
    "import plotly.tools as tls\n",
    "tls.set_credentials_file(username='AxelMunguia',api_key='gBH6UcAyUKdKaDosQlYk')"
   ]
  },
  {
   "cell_type": "code",
   "execution_count": 9,
   "metadata": {},
   "outputs": [
    {
     "data": {
      "text/plain": [
       "Consumer Discretionary     84\n",
       "Industrials                70\n",
       "Information Technology     68\n",
       "Financials                 67\n",
       "Health Care                61\n",
       "Consumer Staples           34\n",
       "Real Estate                33\n",
       "Energy                     32\n",
       "Utilities                  28\n",
       "Materials                  25\n",
       "Telecommunications          3\n",
       "Cash and/or Derivatives     3\n",
       "Name: Sector, dtype: int64"
      ]
     },
     "execution_count": 9,
     "metadata": {},
     "output_type": "execute_result"
    }
   ],
   "source": [
    "Sector = data_[\"Sector\"].value_counts()\n",
    "Sector"
   ]
  },
  {
   "cell_type": "code",
   "execution_count": 10,
   "metadata": {
    "scrolled": false
   },
   "outputs": [
    {
     "name": "stderr",
     "output_type": "stream",
     "text": [
      "C:\\Users\\sacel\\Anaconda3\\lib\\site-packages\\IPython\\core\\display.py:689: UserWarning:\n",
      "\n",
      "Consider using IPython.display.IFrame instead\n",
      "\n"
     ]
    },
    {
     "data": {
      "text/html": [
       "<iframe id=\"igraph\" scrolling=\"no\" style=\"border:none;\" seamless=\"seamless\" src=\"https://plot.ly/~AxelMunguia/293.embed\" height=\"525px\" width=\"100%\"></iframe>"
      ],
      "text/plain": [
       "<chart_studio.tools.PlotlyDisplay object>"
      ]
     },
     "execution_count": 10,
     "metadata": {},
     "output_type": "execute_result"
    }
   ],
   "source": [
    "trace=go.Bar(x=Sector,y=Sector.index.values, name='Frecuencia de cada Sector en ETF',text=Sector.index.values,orientation=\"h\")\n",
    "layout= dict(title='Frecuencia de cada Sector en ETF', xaxis=dict(zeroline=True),\n",
    "            yaxis=dict(zeroline=False))\n",
    "\n",
    "\n",
    "fig=dict(data = [trace],layout=layout)\n",
    "py.iplot(fig)"
   ]
  },
  {
   "cell_type": "markdown",
   "metadata": {},
   "source": [
    "**Tipos de Activos que componen el  ETF**"
   ]
  },
  {
   "cell_type": "code",
   "execution_count": 11,
   "metadata": {},
   "outputs": [
    {
     "data": {
      "text/plain": [
       "Equity                         505\n",
       "Cash Collateral and Margins      1\n",
       "Money Market                     1\n",
       "Cash                             1\n",
       "Name: Asset Class, dtype: int64"
      ]
     },
     "execution_count": 11,
     "metadata": {},
     "output_type": "execute_result"
    }
   ],
   "source": [
    "Class = data_[\"Asset Class\"].value_counts()\n",
    "Class"
   ]
  },
  {
   "cell_type": "code",
   "execution_count": 12,
   "metadata": {},
   "outputs": [
    {
     "data": {
      "image/png": "[encoded data removed]",
      "text/plain": [
       "<Figure size 648x504 with 1 Axes>"
      ]
     },
     "metadata": {
      "needs_background": "light"
     },
     "output_type": "display_data"
    }
   ],
   "source": [
    "Class.plot(kind=\"barh\",figsize=(9,7))\n",
    "for k in range(4):\n",
    "    plt.text(510,k,Class[k])\n",
    "plt.title(\"Tipos de Activos que compoen el ETF\")\n",
    "plt.xlabel(\"Cantidad de Activos\")\n",
    "plt.ylabel(\"Tipo de Activo\")\n",
    "plt.show()"
   ]
  },
  {
   "cell_type": "markdown",
   "metadata": {},
   "source": [
    "**Conocer la ponderación de los activos (Frecuencia)**"
   ]
  },
  {
   "cell_type": "code",
   "execution_count": 13,
   "metadata": {},
   "outputs": [
    {
     "data": {
      "text/plain": [
       "[0.01, 0.01, 0.01, 0.01, 0.01, 0.01, 0.01, 0.01, 0.02, 0.02]"
      ]
     },
     "execution_count": 13,
     "metadata": {},
     "output_type": "execute_result"
    }
   ],
   "source": [
    "Pesos = data_[\"Weight (%)\"].values.tolist()\n",
    "Pesos.sort()\n",
    "Pesos[:10] # De manera Ascendente"
   ]
  },
  {
   "cell_type": "code",
   "execution_count": 14,
   "metadata": {
    "scrolled": false
   },
   "outputs": [
    {
     "data": {
      "text/html": [
       "<iframe id=\"igraph\" scrolling=\"no\" style=\"border:none;\" seamless=\"seamless\" src=\"https://plot.ly/~AxelMunguia/295.embed\" height=\"525px\" width=\"100%\"></iframe>"
      ],
      "text/plain": [
       "<chart_studio.tools.PlotlyDisplay object>"
      ]
     },
     "execution_count": 14,
     "metadata": {},
     "output_type": "execute_result"
    }
   ],
   "source": [
    "trace=go.Histogram(x=Pesos, name=\"Ponderación de Activos en ETF\")\n",
    "layout= dict(title=\"Ponderación de Activos en ETF\", xaxis=dict(zeroline=True),\n",
    "            yaxis=dict(zeroline=False))\n",
    "fig=dict(data = [trace],layout=layout)\n",
    "py.iplot(fig)"
   ]
  },
  {
   "cell_type": "markdown",
   "metadata": {},
   "source": [
    "**Información general por Sector**"
   ]
  },
  {
   "cell_type": "code",
   "execution_count": 23,
   "metadata": {},
   "outputs": [
    {
     "data": {
      "text/html": [
       "<div>\n",
       "<style scoped>\n",
       "    .dataframe tbody tr th:only-of-type {\n",
       "        vertical-align: middle;\n",
       "    }\n",
       "\n",
       "    .dataframe tbody tr th {\n",
       "        vertical-align: top;\n",
       "    }\n",
       "\n",
       "    .dataframe thead th {\n",
       "        text-align: right;\n",
       "    }\n",
       "</style>\n",
       "<table border=\"1\" class=\"dataframe\">\n",
       "  <thead>\n",
       "    <tr style=\"text-align: right;\">\n",
       "      <th></th>\n",
       "      <th>key_0</th>\n",
       "      <th>Weight (%)</th>\n",
       "      <th>Sector</th>\n",
       "    </tr>\n",
       "  </thead>\n",
       "  <tbody>\n",
       "    <tr>\n",
       "      <th>0</th>\n",
       "      <td>Cash and/or Derivatives</td>\n",
       "      <td>0.166667</td>\n",
       "      <td>3</td>\n",
       "    </tr>\n",
       "    <tr>\n",
       "      <th>1</th>\n",
       "      <td>Consumer Discretionary</td>\n",
       "      <td>0.150714</td>\n",
       "      <td>84</td>\n",
       "    </tr>\n",
       "    <tr>\n",
       "      <th>2</th>\n",
       "      <td>Consumer Staples</td>\n",
       "      <td>0.220588</td>\n",
       "      <td>34</td>\n",
       "    </tr>\n",
       "    <tr>\n",
       "      <th>3</th>\n",
       "      <td>Energy</td>\n",
       "      <td>0.170625</td>\n",
       "      <td>32</td>\n",
       "    </tr>\n",
       "    <tr>\n",
       "      <th>4</th>\n",
       "      <td>Financials</td>\n",
       "      <td>0.222239</td>\n",
       "      <td>67</td>\n",
       "    </tr>\n",
       "    <tr>\n",
       "      <th>5</th>\n",
       "      <td>Health Care</td>\n",
       "      <td>0.224918</td>\n",
       "      <td>61</td>\n",
       "    </tr>\n",
       "    <tr>\n",
       "      <th>6</th>\n",
       "      <td>Industrials</td>\n",
       "      <td>0.145714</td>\n",
       "      <td>70</td>\n",
       "    </tr>\n",
       "    <tr>\n",
       "      <th>7</th>\n",
       "      <td>Information Technology</td>\n",
       "      <td>0.368235</td>\n",
       "      <td>68</td>\n",
       "    </tr>\n",
       "    <tr>\n",
       "      <th>8</th>\n",
       "      <td>Materials</td>\n",
       "      <td>0.115600</td>\n",
       "      <td>25</td>\n",
       "    </tr>\n",
       "    <tr>\n",
       "      <th>9</th>\n",
       "      <td>Real Estate</td>\n",
       "      <td>0.078485</td>\n",
       "      <td>33</td>\n",
       "    </tr>\n",
       "    <tr>\n",
       "      <th>10</th>\n",
       "      <td>Telecommunications</td>\n",
       "      <td>0.623333</td>\n",
       "      <td>3</td>\n",
       "    </tr>\n",
       "    <tr>\n",
       "      <th>11</th>\n",
       "      <td>Utilities</td>\n",
       "      <td>0.094643</td>\n",
       "      <td>28</td>\n",
       "    </tr>\n",
       "  </tbody>\n",
       "</table>\n",
       "</div>"
      ],
      "text/plain": [
       "                      key_0  Weight (%)  Sector\n",
       "0   Cash and/or Derivatives    0.166667       3\n",
       "1    Consumer Discretionary    0.150714      84\n",
       "2          Consumer Staples    0.220588      34\n",
       "3                    Energy    0.170625      32\n",
       "4                Financials    0.222239      67\n",
       "5               Health Care    0.224918      61\n",
       "6               Industrials    0.145714      70\n",
       "7    Information Technology    0.368235      68\n",
       "8                 Materials    0.115600      25\n",
       "9               Real Estate    0.078485      33\n",
       "10       Telecommunications    0.623333       3\n",
       "11                Utilities    0.094643      28"
      ]
     },
     "execution_count": 23,
     "metadata": {},
     "output_type": "execute_result"
    }
   ],
   "source": [
    "Prom_Sector = pd.DataFrame(data_.groupby([\"Sector\"]).mean())\n",
    "Sec = pd.DataFrame(data_.Sector.value_counts())\n",
    "Merge = pd.merge(left=Prom_Sector,right=Sec,left_on=Prom_Sector.index.values,right_on=Sec.index.values)\n",
    "Merge"
   ]
  },
  {
   "cell_type": "code",
   "execution_count": 24,
   "metadata": {},
   "outputs": [
    {
     "data": {
      "text/html": [
       "<iframe id=\"igraph\" scrolling=\"no\" style=\"border:none;\" seamless=\"seamless\" src=\"https://plot.ly/~AxelMunguia/315.embed\" height=\"525px\" width=\"100%\"></iframe>"
      ],
      "text/plain": [
       "<chart_studio.tools.PlotlyDisplay object>"
      ]
     },
     "execution_count": 24,
     "metadata": {},
     "output_type": "execute_result"
    }
   ],
   "source": [
    "trace=go.Bar(x=Prom_Sector.values,y=Prom_Sector.index.values, name='Ponderación Promedio por Sector',text=Prom_Sector.index.values,orientation=\"h\")\n",
    "layout= dict(title='Ponderación Promedio por Sector', xaxis=dict(zeroline=True),\n",
    "            yaxis=dict(zeroline=False))\n",
    "\n",
    "\n",
    "fig=dict(data = [trace],layout=layout)\n",
    "py.iplot(fig)"
   ]
  },
  {
   "cell_type": "markdown",
   "metadata": {},
   "source": [
    "## Análsis Numérico"
   ]
  },
  {
   "cell_type": "code",
   "execution_count": 3,
   "metadata": {},
   "outputs": [],
   "source": [
    "Nombres_archivos = [\"Febrero_2017\",\"Marzo_2017\",\"Abril_2017\",\"Mayo_2017\",\"Junio_2017\",\"Julio_2017\",\"Agosto_2017\",\n",
    "                   \"Septiembre_2017\",\"Octubre_2017\",\"Noviembre_2017\",\"Diciembre_2017\",\"Enero_2018\",\"Febrero_2018\"]"
   ]
  },
  {
   "cell_type": "code",
   "execution_count": 18,
   "metadata": {},
   "outputs": [
    {
     "data": {
      "text/html": [
       "<div>\n",
       "<style scoped>\n",
       "    .dataframe tbody tr th:only-of-type {\n",
       "        vertical-align: middle;\n",
       "    }\n",
       "\n",
       "    .dataframe tbody tr th {\n",
       "        vertical-align: top;\n",
       "    }\n",
       "\n",
       "    .dataframe thead th {\n",
       "        text-align: right;\n",
       "    }\n",
       "</style>\n",
       "<table border=\"1\" class=\"dataframe\">\n",
       "  <thead>\n",
       "    <tr style=\"text-align: right;\">\n",
       "      <th></th>\n",
       "      <th>Ticker</th>\n",
       "      <th>Name</th>\n",
       "      <th>Asset Class</th>\n",
       "      <th>Weight (%)</th>\n",
       "      <th>Price</th>\n",
       "      <th>Shares</th>\n",
       "      <th>Market Value</th>\n",
       "      <th>Notional Value</th>\n",
       "      <th>Sector</th>\n",
       "      <th>SEDOL</th>\n",
       "      <th>ISIN</th>\n",
       "      <th>Exchange</th>\n",
       "    </tr>\n",
       "  </thead>\n",
       "  <tbody>\n",
       "    <tr>\n",
       "      <th>0</th>\n",
       "      <td>AAPL</td>\n",
       "      <td>APPLE INC</td>\n",
       "      <td>Equity</td>\n",
       "      <td>3.58</td>\n",
       "      <td>136.99</td>\n",
       "      <td>25,594,504.00</td>\n",
       "      <td>3,506,191,102.96</td>\n",
       "      <td>3,506,191,102.96</td>\n",
       "      <td>Information Technology</td>\n",
       "      <td>2046251</td>\n",
       "      <td>US0378331005</td>\n",
       "      <td>NASDAQ</td>\n",
       "    </tr>\n",
       "    <tr>\n",
       "      <th>1</th>\n",
       "      <td>MSFT</td>\n",
       "      <td>MICROSOFT CORP</td>\n",
       "      <td>Equity</td>\n",
       "      <td>2.44</td>\n",
       "      <td>63.98</td>\n",
       "      <td>37,320,810.00</td>\n",
       "      <td>2,387,785,423.80</td>\n",
       "      <td>2,387,785,423.80</td>\n",
       "      <td>Information Technology</td>\n",
       "      <td>2588173</td>\n",
       "      <td>US5949181045</td>\n",
       "      <td>NASDAQ</td>\n",
       "    </tr>\n",
       "    <tr>\n",
       "      <th>2</th>\n",
       "      <td>XOM</td>\n",
       "      <td>EXXON MOBIL CORP</td>\n",
       "      <td>Equity</td>\n",
       "      <td>1.65</td>\n",
       "      <td>81.32</td>\n",
       "      <td>19,903,660.00</td>\n",
       "      <td>1,618,565,631.20</td>\n",
       "      <td>1,618,565,631.20</td>\n",
       "      <td>Energy</td>\n",
       "      <td>2326618</td>\n",
       "      <td>US30231G1022</td>\n",
       "      <td>New York Stock Exchange Inc.</td>\n",
       "    </tr>\n",
       "    <tr>\n",
       "      <th>3</th>\n",
       "      <td>AMZN</td>\n",
       "      <td>AMAZON COM INC</td>\n",
       "      <td>Equity</td>\n",
       "      <td>1.63</td>\n",
       "      <td>845.04</td>\n",
       "      <td>1,893,021.00</td>\n",
       "      <td>1,599,678,465.84</td>\n",
       "      <td>1,599,678,465.84</td>\n",
       "      <td>Consumer Discretionary</td>\n",
       "      <td>2000019</td>\n",
       "      <td>US0231351067</td>\n",
       "      <td>NASDAQ</td>\n",
       "    </tr>\n",
       "    <tr>\n",
       "      <th>4</th>\n",
       "      <td>JNJ</td>\n",
       "      <td>JOHNSON &amp; JOHNSON</td>\n",
       "      <td>Equity</td>\n",
       "      <td>1.63</td>\n",
       "      <td>122.21</td>\n",
       "      <td>13,058,249.00</td>\n",
       "      <td>1,595,848,610.29</td>\n",
       "      <td>1,595,848,610.29</td>\n",
       "      <td>Health Care</td>\n",
       "      <td>2475833</td>\n",
       "      <td>US4781601046</td>\n",
       "      <td>New York Stock Exchange Inc.</td>\n",
       "    </tr>\n",
       "  </tbody>\n",
       "</table>\n",
       "</div>"
      ],
      "text/plain": [
       "  Ticker               Name Asset Class  Weight (%)   Price         Shares  \\\n",
       "0   AAPL          APPLE INC      Equity        3.58  136.99  25,594,504.00   \n",
       "1   MSFT     MICROSOFT CORP      Equity        2.44   63.98  37,320,810.00   \n",
       "2    XOM   EXXON MOBIL CORP      Equity        1.65   81.32  19,903,660.00   \n",
       "3   AMZN     AMAZON COM INC      Equity        1.63  845.04   1,893,021.00   \n",
       "4    JNJ  JOHNSON & JOHNSON      Equity        1.63  122.21  13,058,249.00   \n",
       "\n",
       "       Market Value    Notional Value                  Sector    SEDOL  \\\n",
       "0  3,506,191,102.96  3,506,191,102.96  Information Technology  2046251   \n",
       "1  2,387,785,423.80  2,387,785,423.80  Information Technology  2588173   \n",
       "2  1,618,565,631.20  1,618,565,631.20                  Energy  2326618   \n",
       "3  1,599,678,465.84  1,599,678,465.84  Consumer Discretionary  2000019   \n",
       "4  1,595,848,610.29  1,595,848,610.29             Health Care  2475833   \n",
       "\n",
       "           ISIN                      Exchange  \n",
       "0  US0378331005                        NASDAQ  \n",
       "1  US5949181045                        NASDAQ  \n",
       "2  US30231G1022  New York Stock Exchange Inc.  \n",
       "3  US0231351067                        NASDAQ  \n",
       "4  US4781601046  New York Stock Exchange Inc.  "
      ]
     },
     "execution_count": 18,
     "metadata": {},
     "output_type": "execute_result"
    }
   ],
   "source": [
    "data_1 = pd.read_csv(\"../Datos/\"+Nombres_archivos[0]+\".csv\",skiprows=10)\n",
    "data_1.head()"
   ]
  },
  {
   "cell_type": "markdown",
   "metadata": {},
   "source": [
    "**Definir Función que descargará los precios**"
   ]
  },
  {
   "cell_type": "code",
   "execution_count": 396,
   "metadata": {},
   "outputs": [],
   "source": [
    "def get_closes(tickers, start_date=None, end_date=None, freq=None):\n",
    "    import pandas as pd\n",
    "    pd.core.common.is_list_like = pd.api.types.is_list_like\n",
    "    import pandas_datareader.data as web  \n",
    "    closes = pd.DataFrame(columns = tickers, index=web.YahooDailyReader(symbols=tickers[0], start=start_date, end=end_date, interval=freq).read().index)\n",
    "    for ticker in tickers:\n",
    "        try:\n",
    "            df = web.YahooDailyReader(symbols=ticker, start=start_date, end=end_date, interval=freq).read()\n",
    "            closes[ticker]=df['Adj Close']\n",
    "        except:\n",
    "            continue\n",
    "    closes.index_name = 'Date'\n",
    "    closes = closes.sort_index()\n",
    "    return closes"
   ]
  },
  {
   "cell_type": "code",
   "execution_count": 21,
   "metadata": {},
   "outputs": [
    {
     "data": {
      "text/html": [
       "<div>\n",
       "<style scoped>\n",
       "    .dataframe tbody tr th:only-of-type {\n",
       "        vertical-align: middle;\n",
       "    }\n",
       "\n",
       "    .dataframe tbody tr th {\n",
       "        vertical-align: top;\n",
       "    }\n",
       "\n",
       "    .dataframe thead tr th {\n",
       "        text-align: left;\n",
       "    }\n",
       "\n",
       "    .dataframe thead tr:last-of-type th {\n",
       "        text-align: right;\n",
       "    }\n",
       "</style>\n",
       "<table border=\"1\" class=\"dataframe\">\n",
       "  <thead>\n",
       "    <tr>\n",
       "      <th>Attributes</th>\n",
       "      <th>High</th>\n",
       "      <th>Low</th>\n",
       "      <th>Open</th>\n",
       "      <th>Close</th>\n",
       "      <th>Volume</th>\n",
       "      <th>Adj Close</th>\n",
       "    </tr>\n",
       "    <tr>\n",
       "      <th>Symbols</th>\n",
       "      <th>^GSPC</th>\n",
       "      <th>^GSPC</th>\n",
       "      <th>^GSPC</th>\n",
       "      <th>^GSPC</th>\n",
       "      <th>^GSPC</th>\n",
       "      <th>^GSPC</th>\n",
       "    </tr>\n",
       "    <tr>\n",
       "      <th>Date</th>\n",
       "      <th></th>\n",
       "      <th></th>\n",
       "      <th></th>\n",
       "      <th></th>\n",
       "      <th></th>\n",
       "      <th></th>\n",
       "    </tr>\n",
       "  </thead>\n",
       "  <tbody>\n",
       "    <tr>\n",
       "      <th>2017-02-28</th>\n",
       "      <td>2367.790039</td>\n",
       "      <td>2358.959961</td>\n",
       "      <td>2366.080078</td>\n",
       "      <td>2363.639893</td>\n",
       "      <td>4210140000</td>\n",
       "      <td>2363.639893</td>\n",
       "    </tr>\n",
       "    <tr>\n",
       "      <th>2017-03-01</th>\n",
       "      <td>2400.979980</td>\n",
       "      <td>2380.129883</td>\n",
       "      <td>2380.129883</td>\n",
       "      <td>2395.959961</td>\n",
       "      <td>4345180000</td>\n",
       "      <td>2395.959961</td>\n",
       "    </tr>\n",
       "    <tr>\n",
       "      <th>2017-03-02</th>\n",
       "      <td>2394.750000</td>\n",
       "      <td>2380.169922</td>\n",
       "      <td>2394.750000</td>\n",
       "      <td>2381.919922</td>\n",
       "      <td>3821320000</td>\n",
       "      <td>2381.919922</td>\n",
       "    </tr>\n",
       "    <tr>\n",
       "      <th>2017-03-03</th>\n",
       "      <td>2383.889893</td>\n",
       "      <td>2375.389893</td>\n",
       "      <td>2380.919922</td>\n",
       "      <td>2383.120117</td>\n",
       "      <td>3555260000</td>\n",
       "      <td>2383.120117</td>\n",
       "    </tr>\n",
       "    <tr>\n",
       "      <th>2017-03-06</th>\n",
       "      <td>2378.800049</td>\n",
       "      <td>2367.979980</td>\n",
       "      <td>2375.229980</td>\n",
       "      <td>2375.310059</td>\n",
       "      <td>3232700000</td>\n",
       "      <td>2375.310059</td>\n",
       "    </tr>\n",
       "  </tbody>\n",
       "</table>\n",
       "</div>"
      ],
      "text/plain": [
       "Attributes         High          Low         Open        Close      Volume  \\\n",
       "Symbols           ^GSPC        ^GSPC        ^GSPC        ^GSPC       ^GSPC   \n",
       "Date                                                                         \n",
       "2017-02-28  2367.790039  2358.959961  2366.080078  2363.639893  4210140000   \n",
       "2017-03-01  2400.979980  2380.129883  2380.129883  2395.959961  4345180000   \n",
       "2017-03-02  2394.750000  2380.169922  2394.750000  2381.919922  3821320000   \n",
       "2017-03-03  2383.889893  2375.389893  2380.919922  2383.120117  3555260000   \n",
       "2017-03-06  2378.800049  2367.979980  2375.229980  2375.310059  3232700000   \n",
       "\n",
       "Attributes    Adj Close  \n",
       "Symbols           ^GSPC  \n",
       "Date                     \n",
       "2017-02-28  2363.639893  \n",
       "2017-03-01  2395.959961  \n",
       "2017-03-02  2381.919922  \n",
       "2017-03-03  2383.120117  \n",
       "2017-03-06  2375.310059  "
      ]
     },
     "execution_count": 21,
     "metadata": {},
     "output_type": "execute_result"
    }
   ],
   "source": [
    "# Descargamos precios del S&P500(índice) para conocer su comportamiento.\n",
    "df = web.YahooDailyReader(symbols=[\"^GSPC\"],start=\"28/02/2017\",end=\"28/02/2018\", interval=\"d\").read()\n",
    "df.head()"
   ]
  },
  {
   "cell_type": "code",
   "execution_count": 22,
   "metadata": {},
   "outputs": [
    {
     "name": "stderr",
     "output_type": "stream",
     "text": [
      "C:\\Users\\sacel\\Anaconda3\\lib\\site-packages\\IPython\\core\\display.py:689: UserWarning:\n",
      "\n",
      "Consider using IPython.display.IFrame instead\n",
      "\n"
     ]
    },
    {
     "data": {
      "text/html": [
       "<iframe id=\"igraph\" scrolling=\"no\" style=\"border:none;\" seamless=\"seamless\" src=\"https://plot.ly/~AxelMunguia/144.embed\" height=\"525px\" width=\"100%\"></iframe>"
      ],
      "text/plain": [
       "<chart_studio.tools.PlotlyDisplay object>"
      ]
     },
     "execution_count": 22,
     "metadata": {},
     "output_type": "execute_result"
    }
   ],
   "source": [
    "trace = go.Candlestick(x=df.index,\n",
    "                open=df['Open'],\n",
    "                high=df['High'],\n",
    "                low=df['Low'],\n",
    "                close=df['Close'])\n",
    "layout= dict(title='Precio S&P500 de 28/02/2017 a 28/02/2018', xaxis=dict(zeroline=True),\n",
    "            yaxis=dict(zeroline=True))\n",
    "data = dict(data = [trace], layout = layout)\n",
    "py.iplot(data, filename='simple_candlestick')"
   ]
  },
  {
   "cell_type": "markdown",
   "metadata": {},
   "source": [
    "### Obtener Total Net Assets and Shares Outstanding en un solo DataFrame"
   ]
  },
  {
   "cell_type": "code",
   "execution_count": 223,
   "metadata": {},
   "outputs": [
    {
     "data": {
      "text/html": [
       "<div>\n",
       "<style scoped>\n",
       "    .dataframe tbody tr th:only-of-type {\n",
       "        vertical-align: middle;\n",
       "    }\n",
       "\n",
       "    .dataframe tbody tr th {\n",
       "        vertical-align: top;\n",
       "    }\n",
       "\n",
       "    .dataframe thead th {\n",
       "        text-align: right;\n",
       "    }\n",
       "</style>\n",
       "<table border=\"1\" class=\"dataframe\">\n",
       "  <thead>\n",
       "    <tr style=\"text-align: right;\">\n",
       "      <th></th>\n",
       "      <th>iShares Core S&amp;P 500 ETF</th>\n",
       "    </tr>\n",
       "  </thead>\n",
       "  <tbody>\n",
       "    <tr>\n",
       "      <th>Total Net Assets</th>\n",
       "      <td>97,843,780,499.36</td>\n",
       "    </tr>\n",
       "    <tr>\n",
       "      <th>Shares Outstanding</th>\n",
       "      <td>411,150,000.00</td>\n",
       "    </tr>\n",
       "  </tbody>\n",
       "</table>\n",
       "</div>"
      ],
      "text/plain": [
       "                   iShares Core S&P 500 ETF\n",
       "Total Net Assets          97,843,780,499.36\n",
       "Shares Outstanding           411,150,000.00"
      ]
     },
     "execution_count": 223,
     "metadata": {},
     "output_type": "execute_result"
    }
   ],
   "source": [
    "Net_ASO = pd.read_csv(\"../Datos/\"+Nombres_archivos[0]+\".csv\",error_bad_lines=False,warn_bad_lines=False)\n",
    "Net_ASO = pd.DataFrame(Net_ASO.iloc[2:4,:])\n",
    "column = Net_ASO.columns.values # Hay problemas con algunos csv's, por lo tanto, tomamos el valor de la colunmna correcta\n",
    "index_val = Net_ASO.index.values # Lo mismo que arriba, pero tomamos valores de índices\n",
    "Net_ASO"
   ]
  },
  {
   "cell_type": "code",
   "execution_count": 224,
   "metadata": {},
   "outputs": [],
   "source": [
    "# Construir función para tomar el de cada mes\n",
    "for k in Nombres_archivos[1:]:\n",
    "    data = pd.read_csv(\"../Datos/\"+k+\".csv\",error_bad_lines=False,warn_bad_lines=False)\n",
    "    data = data.iloc[2:4,:] \n",
    "    if data.shape[1]==1:\n",
    "        Net_ASO = pd.concat([Net_ASO,data],axis=1)\n",
    "    else:\n",
    "        valores = data.iloc[:,1].values.tolist()\n",
    "        data = pd.DataFrame(valores,columns=column, index=index_val)\n",
    "        Net_ASO = pd.concat([Net_ASO,data],axis=1)"
   ]
  },
  {
   "cell_type": "code",
   "execution_count": 225,
   "metadata": {},
   "outputs": [
    {
     "data": {
      "text/html": [
       "<div>\n",
       "<style scoped>\n",
       "    .dataframe tbody tr th:only-of-type {\n",
       "        vertical-align: middle;\n",
       "    }\n",
       "\n",
       "    .dataframe tbody tr th {\n",
       "        vertical-align: top;\n",
       "    }\n",
       "\n",
       "    .dataframe thead th {\n",
       "        text-align: right;\n",
       "    }\n",
       "</style>\n",
       "<table border=\"1\" class=\"dataframe\">\n",
       "  <thead>\n",
       "    <tr style=\"text-align: right;\">\n",
       "      <th></th>\n",
       "      <th>Febrero_2017</th>\n",
       "      <th>Marzo_2017</th>\n",
       "      <th>Abril_2017</th>\n",
       "      <th>Mayo_2017</th>\n",
       "      <th>Junio_2017</th>\n",
       "      <th>Julio_2017</th>\n",
       "      <th>Agosto_2017</th>\n",
       "      <th>Septiembre_2017</th>\n",
       "      <th>Octubre_2017</th>\n",
       "      <th>Noviembre_2017</th>\n",
       "      <th>Diciembre_2017</th>\n",
       "      <th>Enero_2018</th>\n",
       "      <th>Febrero_2018</th>\n",
       "    </tr>\n",
       "  </thead>\n",
       "  <tbody>\n",
       "    <tr>\n",
       "      <th>Total Net Assets</th>\n",
       "      <td>97,843,780,499.36</td>\n",
       "      <td>101,821,854,272.44</td>\n",
       "      <td>109,203,771,298.81</td>\n",
       "      <td>112,533,011,489.13</td>\n",
       "      <td>115,463,029,979.62</td>\n",
       "      <td>121,907,587,125.66</td>\n",
       "      <td>124,393,508,123.36</td>\n",
       "      <td>126,492,385,434.10</td>\n",
       "      <td>133,414,175,708.62</td>\n",
       "      <td>140,272,696,975.41</td>\n",
       "      <td>141,487,848,319.30</td>\n",
       "      <td>156,026,902,856.81</td>\n",
       "      <td>154,537,475,712.41</td>\n",
       "    </tr>\n",
       "    <tr>\n",
       "      <th>Shares Outstanding</th>\n",
       "      <td>411,150,000.00</td>\n",
       "      <td>429,250,000.00</td>\n",
       "      <td>455,700,000.00</td>\n",
       "      <td>463,100,000.00</td>\n",
       "      <td>474,400,000.00</td>\n",
       "      <td>490,800,000.00</td>\n",
       "      <td>499,300,000.00</td>\n",
       "      <td>500,000,000.00</td>\n",
       "      <td>515,350,000.00</td>\n",
       "      <td>525,750,000.00</td>\n",
       "      <td>526,950,000.00</td>\n",
       "      <td>549,650,000.00</td>\n",
       "      <td>565,250,000.00</td>\n",
       "    </tr>\n",
       "  </tbody>\n",
       "</table>\n",
       "</div>"
      ],
      "text/plain": [
       "                         Febrero_2017          Marzo_2017          Abril_2017  \\\n",
       "Total Net Assets    97,843,780,499.36  101,821,854,272.44  109,203,771,298.81   \n",
       "Shares Outstanding     411,150,000.00      429,250,000.00      455,700,000.00   \n",
       "\n",
       "                             Mayo_2017          Junio_2017  \\\n",
       "Total Net Assets    112,533,011,489.13  115,463,029,979.62   \n",
       "Shares Outstanding      463,100,000.00      474,400,000.00   \n",
       "\n",
       "                            Julio_2017         Agosto_2017  \\\n",
       "Total Net Assets    121,907,587,125.66  124,393,508,123.36   \n",
       "Shares Outstanding      490,800,000.00      499,300,000.00   \n",
       "\n",
       "                       Septiembre_2017        Octubre_2017  \\\n",
       "Total Net Assets    126,492,385,434.10  133,414,175,708.62   \n",
       "Shares Outstanding      500,000,000.00      515,350,000.00   \n",
       "\n",
       "                        Noviembre_2017      Diciembre_2017  \\\n",
       "Total Net Assets    140,272,696,975.41  141,487,848,319.30   \n",
       "Shares Outstanding      525,750,000.00      526,950,000.00   \n",
       "\n",
       "                            Enero_2018        Febrero_2018  \n",
       "Total Net Assets    156,026,902,856.81  154,537,475,712.41  \n",
       "Shares Outstanding      549,650,000.00      565,250,000.00  "
      ]
     },
     "execution_count": 225,
     "metadata": {},
     "output_type": "execute_result"
    }
   ],
   "source": [
    "Net_ASO.columns = Nombres_archivos\n",
    "Net_ASO"
   ]
  },
  {
   "cell_type": "code",
   "execution_count": 226,
   "metadata": {},
   "outputs": [
    {
     "data": {
      "text/plain": [
       "Febrero_2017       object\n",
       "Marzo_2017         object\n",
       "Abril_2017         object\n",
       "Mayo_2017          object\n",
       "Junio_2017         object\n",
       "Julio_2017         object\n",
       "Agosto_2017        object\n",
       "Septiembre_2017    object\n",
       "Octubre_2017       object\n",
       "Noviembre_2017     object\n",
       "Diciembre_2017     object\n",
       "Enero_2018         object\n",
       "Febrero_2018       object\n",
       "dtype: object"
      ]
     },
     "execution_count": 226,
     "metadata": {},
     "output_type": "execute_result"
    }
   ],
   "source": [
    "Net_ASO.dtypes # Esto representa un problema, pues no se puede efectuar operaciones, por lo tanto, se debe de pasar a float"
   ]
  },
  {
   "cell_type": "code",
   "execution_count": 227,
   "metadata": {},
   "outputs": [],
   "source": [
    "concatenar = \"\"\n",
    "for k in Net_ASO.columns.values:\n",
    "    for l in range(len(Net_ASO[k].values)):\n",
    "        val = Net_ASO[k][l].split(\",\")\n",
    "        for i in val:\n",
    "            concatenar+=i\n",
    "        concatenar = float(concatenar)\n",
    "        Net_ASO[k][l] = concatenar\n",
    "        concatenar=\"\"\n",
    "## Vuelve a aparecer en object porque cada columna debe de ser del mismo tipo, por lo tanto, cuando se convierte una casilla\n",
    "## en float se vuelve a reescribir como object, sin embargo, ya se puede cambiar el dataframe a float cuando termina el ciclo,\n",
    "## pues ya no hay comas entre los números que lo impidan."
   ]
  },
  {
   "cell_type": "code",
   "execution_count": 228,
   "metadata": {},
   "outputs": [
    {
     "data": {
      "text/html": [
       "<div>\n",
       "<style scoped>\n",
       "    .dataframe tbody tr th:only-of-type {\n",
       "        vertical-align: middle;\n",
       "    }\n",
       "\n",
       "    .dataframe tbody tr th {\n",
       "        vertical-align: top;\n",
       "    }\n",
       "\n",
       "    .dataframe thead th {\n",
       "        text-align: right;\n",
       "    }\n",
       "</style>\n",
       "<table border=\"1\" class=\"dataframe\">\n",
       "  <thead>\n",
       "    <tr style=\"text-align: right;\">\n",
       "      <th></th>\n",
       "      <th>Febrero_2017</th>\n",
       "      <th>Marzo_2017</th>\n",
       "      <th>Abril_2017</th>\n",
       "      <th>Mayo_2017</th>\n",
       "      <th>Junio_2017</th>\n",
       "      <th>Julio_2017</th>\n",
       "      <th>Agosto_2017</th>\n",
       "      <th>Septiembre_2017</th>\n",
       "      <th>Octubre_2017</th>\n",
       "      <th>Noviembre_2017</th>\n",
       "      <th>Diciembre_2017</th>\n",
       "      <th>Enero_2018</th>\n",
       "      <th>Febrero_2018</th>\n",
       "    </tr>\n",
       "  </thead>\n",
       "  <tbody>\n",
       "    <tr>\n",
       "      <th>Total Net Assets</th>\n",
       "      <td>9.784378e+10</td>\n",
       "      <td>1.018219e+11</td>\n",
       "      <td>1.092038e+11</td>\n",
       "      <td>1.125330e+11</td>\n",
       "      <td>1.154630e+11</td>\n",
       "      <td>1.219076e+11</td>\n",
       "      <td>1.243935e+11</td>\n",
       "      <td>1.264924e+11</td>\n",
       "      <td>1.334142e+11</td>\n",
       "      <td>1.402727e+11</td>\n",
       "      <td>1.414878e+11</td>\n",
       "      <td>1.560269e+11</td>\n",
       "      <td>1.545375e+11</td>\n",
       "    </tr>\n",
       "    <tr>\n",
       "      <th>Shares Outstanding</th>\n",
       "      <td>4.111500e+08</td>\n",
       "      <td>4.292500e+08</td>\n",
       "      <td>4.557000e+08</td>\n",
       "      <td>4.631000e+08</td>\n",
       "      <td>4.744000e+08</td>\n",
       "      <td>4.908000e+08</td>\n",
       "      <td>4.993000e+08</td>\n",
       "      <td>5.000000e+08</td>\n",
       "      <td>5.153500e+08</td>\n",
       "      <td>5.257500e+08</td>\n",
       "      <td>5.269500e+08</td>\n",
       "      <td>5.496500e+08</td>\n",
       "      <td>5.652500e+08</td>\n",
       "    </tr>\n",
       "  </tbody>\n",
       "</table>\n",
       "</div>"
      ],
      "text/plain": [
       "                    Febrero_2017    Marzo_2017    Abril_2017     Mayo_2017  \\\n",
       "Total Net Assets    9.784378e+10  1.018219e+11  1.092038e+11  1.125330e+11   \n",
       "Shares Outstanding  4.111500e+08  4.292500e+08  4.557000e+08  4.631000e+08   \n",
       "\n",
       "                      Junio_2017    Julio_2017   Agosto_2017  Septiembre_2017  \\\n",
       "Total Net Assets    1.154630e+11  1.219076e+11  1.243935e+11     1.264924e+11   \n",
       "Shares Outstanding  4.744000e+08  4.908000e+08  4.993000e+08     5.000000e+08   \n",
       "\n",
       "                    Octubre_2017  Noviembre_2017  Diciembre_2017  \\\n",
       "Total Net Assets    1.334142e+11    1.402727e+11    1.414878e+11   \n",
       "Shares Outstanding  5.153500e+08    5.257500e+08    5.269500e+08   \n",
       "\n",
       "                      Enero_2018  Febrero_2018  \n",
       "Total Net Assets    1.560269e+11  1.545375e+11  \n",
       "Shares Outstanding  5.496500e+08  5.652500e+08  "
      ]
     },
     "execution_count": 228,
     "metadata": {},
     "output_type": "execute_result"
    }
   ],
   "source": [
    "Net_ASO = pd.DataFrame(Net_ASO,dtype=float) \n",
    "Net_ASO"
   ]
  },
  {
   "cell_type": "code",
   "execution_count": 229,
   "metadata": {},
   "outputs": [
    {
     "data": {
      "text/html": [
       "<div>\n",
       "<style scoped>\n",
       "    .dataframe tbody tr th:only-of-type {\n",
       "        vertical-align: middle;\n",
       "    }\n",
       "\n",
       "    .dataframe tbody tr th {\n",
       "        vertical-align: top;\n",
       "    }\n",
       "\n",
       "    .dataframe thead th {\n",
       "        text-align: right;\n",
       "    }\n",
       "</style>\n",
       "<table border=\"1\" class=\"dataframe\">\n",
       "  <thead>\n",
       "    <tr style=\"text-align: right;\">\n",
       "      <th></th>\n",
       "      <th>Febrero_2017</th>\n",
       "      <th>Marzo_2017</th>\n",
       "      <th>Abril_2017</th>\n",
       "      <th>Mayo_2017</th>\n",
       "      <th>Junio_2017</th>\n",
       "      <th>Julio_2017</th>\n",
       "      <th>Agosto_2017</th>\n",
       "      <th>Septiembre_2017</th>\n",
       "      <th>Octubre_2017</th>\n",
       "      <th>Noviembre_2017</th>\n",
       "      <th>Diciembre_2017</th>\n",
       "      <th>Enero_2018</th>\n",
       "      <th>Febrero_2018</th>\n",
       "    </tr>\n",
       "  </thead>\n",
       "  <tbody>\n",
       "    <tr>\n",
       "      <th>Total Net Assets</th>\n",
       "      <td>9.784378e+10</td>\n",
       "      <td>1.018219e+11</td>\n",
       "      <td>1.092038e+11</td>\n",
       "      <td>1.125330e+11</td>\n",
       "      <td>1.154630e+11</td>\n",
       "      <td>1.219076e+11</td>\n",
       "      <td>1.243935e+11</td>\n",
       "      <td>1.264924e+11</td>\n",
       "      <td>1.334142e+11</td>\n",
       "      <td>1.402727e+11</td>\n",
       "      <td>1.414878e+11</td>\n",
       "      <td>1.560269e+11</td>\n",
       "      <td>1.545375e+11</td>\n",
       "    </tr>\n",
       "    <tr>\n",
       "      <th>Shares Outstanding</th>\n",
       "      <td>4.111500e+08</td>\n",
       "      <td>4.292500e+08</td>\n",
       "      <td>4.557000e+08</td>\n",
       "      <td>4.631000e+08</td>\n",
       "      <td>4.744000e+08</td>\n",
       "      <td>4.908000e+08</td>\n",
       "      <td>4.993000e+08</td>\n",
       "      <td>5.000000e+08</td>\n",
       "      <td>5.153500e+08</td>\n",
       "      <td>5.257500e+08</td>\n",
       "      <td>5.269500e+08</td>\n",
       "      <td>5.496500e+08</td>\n",
       "      <td>5.652500e+08</td>\n",
       "    </tr>\n",
       "    <tr>\n",
       "      <th>Price</th>\n",
       "      <td>2.379759e+02</td>\n",
       "      <td>2.372087e+02</td>\n",
       "      <td>2.396396e+02</td>\n",
       "      <td>2.429994e+02</td>\n",
       "      <td>2.433875e+02</td>\n",
       "      <td>2.483855e+02</td>\n",
       "      <td>2.491358e+02</td>\n",
       "      <td>2.529848e+02</td>\n",
       "      <td>2.588807e+02</td>\n",
       "      <td>2.668049e+02</td>\n",
       "      <td>2.685034e+02</td>\n",
       "      <td>2.838659e+02</td>\n",
       "      <td>2.733967e+02</td>\n",
       "    </tr>\n",
       "  </tbody>\n",
       "</table>\n",
       "</div>"
      ],
      "text/plain": [
       "                    Febrero_2017    Marzo_2017    Abril_2017     Mayo_2017  \\\n",
       "Total Net Assets    9.784378e+10  1.018219e+11  1.092038e+11  1.125330e+11   \n",
       "Shares Outstanding  4.111500e+08  4.292500e+08  4.557000e+08  4.631000e+08   \n",
       "Price               2.379759e+02  2.372087e+02  2.396396e+02  2.429994e+02   \n",
       "\n",
       "                      Junio_2017    Julio_2017   Agosto_2017  Septiembre_2017  \\\n",
       "Total Net Assets    1.154630e+11  1.219076e+11  1.243935e+11     1.264924e+11   \n",
       "Shares Outstanding  4.744000e+08  4.908000e+08  4.993000e+08     5.000000e+08   \n",
       "Price               2.433875e+02  2.483855e+02  2.491358e+02     2.529848e+02   \n",
       "\n",
       "                    Octubre_2017  Noviembre_2017  Diciembre_2017  \\\n",
       "Total Net Assets    1.334142e+11    1.402727e+11    1.414878e+11   \n",
       "Shares Outstanding  5.153500e+08    5.257500e+08    5.269500e+08   \n",
       "Price               2.588807e+02    2.668049e+02    2.685034e+02   \n",
       "\n",
       "                      Enero_2018  Febrero_2018  \n",
       "Total Net Assets    1.560269e+11  1.545375e+11  \n",
       "Shares Outstanding  5.496500e+08  5.652500e+08  \n",
       "Price               2.838659e+02  2.733967e+02  "
      ]
     },
     "execution_count": 229,
     "metadata": {},
     "output_type": "execute_result"
    }
   ],
   "source": [
    "Net_ASO.loc[\"Price\"] = Net_ASO.iloc[0,:]/Net_ASO.iloc[1,:] # Cálcular Precios por mes (Una vez que el ETF está rebalanceado)\n",
    "Net_ASO"
   ]
  },
  {
   "cell_type": "code",
   "execution_count": 308,
   "metadata": {},
   "outputs": [
    {
     "data": {
      "text/plain": [
       "['Febrero17',\n",
       " 'Mar',\n",
       " 'Abr',\n",
       " 'May',\n",
       " 'Jun',\n",
       " 'Jul',\n",
       " 'Ago',\n",
       " 'Sep',\n",
       " 'Oct',\n",
       " 'Nov',\n",
       " 'Dic',\n",
       " 'Ene',\n",
       " 'Febrero18']"
      ]
     },
     "execution_count": 308,
     "metadata": {},
     "output_type": "execute_result"
    }
   ],
   "source": [
    "### Quedarse solo con el mes y no el año de los nombres de archivos\n",
    "meses = [Nombres_archivos[0].split(\"_\")[0]+\"17\"]\n",
    "for k in Nombres_archivos[1:-1]:\n",
    "    mes = k.split(\"_\")[0]\n",
    "    mes=mes[:3]\n",
    "    meses.append(mes)\n",
    "meses.append(Nombres_archivos[len(Nombres_archivos)-1].split(\"_\")[0]+\"18\")\n",
    "meses"
   ]
  },
  {
   "cell_type": "code",
   "execution_count": 382,
   "metadata": {
    "scrolled": false
   },
   "outputs": [
    {
     "data": {
      "image/png": "[encoded data removed]",
      "text/plain": [
       "<Figure size 1280x720 with 1 Axes>"
      ]
     },
     "metadata": {},
     "output_type": "display_data"
    }
   ],
   "source": [
    "style.use(\"ggplot\")\n",
    "plt.figure(facecolor=\"white\",figsize=(16,9))\n",
    "plt.plot(meses,Net_ASO.loc[\"Price\"].values,'o-',label=\"Precio ETF cada rebalanceo\")\n",
    "plt.legend(loc=\"upper left\",fontsize=15)\n",
    "plt.ylim([225,290])\n",
    "plt.xlim([-.2,12.5])\n",
    "plt.title(\"Precio del ETF para cada Rebalanceo\\n\",size=20)\n",
    "plt.ylabel(\"Precio\\n\",size=20)\n",
    "plt.xlabel(\"\\nMes\",size=20)\n",
    "# Get current Axis\n",
    "ax = plt.gca() # Da acceso a los ejes del dibujo actual\n",
    "ax.spines['right'].set_color('none') # Nos da acceso a los bordes del gráfico.\n",
    "ax.spines['top'].set_color('none')\n",
    "ax.xaxis.set_ticks_position('bottom')\n",
    "ax.yaxis.set_ticks_position('left')\n",
    "plt.annotate(\"Valor Máximo = {}\\n en {}\".format(Net_ASO.loc[\"Price\"].values[len(Net_ASO.loc[\"Price\"].values)-2],Nombres_archivos[len(meses)-2]),\n",
    "             xy=((meses[len(meses)-2],Net_ASO.loc[\"Price\"].values[len(Net_ASO.loc[\"Price\"].values)-2])),\n",
    "             xytext=(meses[len(meses)-7],Net_ASO.loc[\"Price\"].values[len(Net_ASO.loc[\"Price\"].values)-2]-2),\n",
    "             arrowprops=dict(facecolor=\"black\",shrink = 0.05),size=12)\n",
    "\n",
    "\n",
    "# Pintar de rojo cada valor en los ejes\n",
    "for label in ax.get_xticklabels() + ax.get_yticklabels():\n",
    "    label.set_fontsize(16)\n",
    "    label.set_bbox(dict(facecolor='red',edgecolor=None,alpha=0.2))\n",
    "plt.show()\n"
   ]
  },
  {
   "cell_type": "markdown",
   "metadata": {},
   "source": [
    "### Obtener Nombre de activo y su ponderación para cada documento"
   ]
  },
  {
   "cell_type": "code",
   "execution_count": 203,
   "metadata": {},
   "outputs": [
    {
     "name": "stdout",
     "output_type": "stream",
     "text": [
      "(508, 2)\n"
     ]
    },
    {
     "data": {
      "text/html": [
       "<div>\n",
       "<style scoped>\n",
       "    .dataframe tbody tr th:only-of-type {\n",
       "        vertical-align: middle;\n",
       "    }\n",
       "\n",
       "    .dataframe tbody tr th {\n",
       "        vertical-align: top;\n",
       "    }\n",
       "\n",
       "    .dataframe thead th {\n",
       "        text-align: right;\n",
       "    }\n",
       "</style>\n",
       "<table border=\"1\" class=\"dataframe\">\n",
       "  <thead>\n",
       "    <tr style=\"text-align: right;\">\n",
       "      <th></th>\n",
       "      <th>Ticker</th>\n",
       "      <th>Weight (%)</th>\n",
       "    </tr>\n",
       "  </thead>\n",
       "  <tbody>\n",
       "    <tr>\n",
       "      <th>0</th>\n",
       "      <td>AAPL</td>\n",
       "      <td>3.58</td>\n",
       "    </tr>\n",
       "    <tr>\n",
       "      <th>1</th>\n",
       "      <td>MSFT</td>\n",
       "      <td>2.44</td>\n",
       "    </tr>\n",
       "    <tr>\n",
       "      <th>2</th>\n",
       "      <td>XOM</td>\n",
       "      <td>1.65</td>\n",
       "    </tr>\n",
       "    <tr>\n",
       "      <th>3</th>\n",
       "      <td>AMZN</td>\n",
       "      <td>1.63</td>\n",
       "    </tr>\n",
       "    <tr>\n",
       "      <th>4</th>\n",
       "      <td>JNJ</td>\n",
       "      <td>1.63</td>\n",
       "    </tr>\n",
       "  </tbody>\n",
       "</table>\n",
       "</div>"
      ],
      "text/plain": [
       "  Ticker  Weight (%)\n",
       "0   AAPL        3.58\n",
       "1   MSFT        2.44\n",
       "2    XOM        1.65\n",
       "3   AMZN        1.63\n",
       "4    JNJ        1.63"
      ]
     },
     "execution_count": 203,
     "metadata": {},
     "output_type": "execute_result"
    }
   ],
   "source": [
    "act_peso = pd.read_csv(\"../Datos/\"+Nombres_archivos[0]+\".csv\",skiprows=10)\n",
    "act_peso = act_peso.iloc[:,[0,3]][:-2]\n",
    "print(act_peso.shape);act_peso.head()"
   ]
  },
  {
   "cell_type": "code",
   "execution_count": 204,
   "metadata": {},
   "outputs": [],
   "source": [
    "for k in Nombres_archivos[1:]:\n",
    "    data_peso = pd.read_csv(\"../Datos/\"+k+\".csv\",skiprows=10)\n",
    "    peso = data_peso.iloc[:,[0,3]][:-2] # Removemos los últimos dos que no son precios\n",
    "    act_peso = pd.concat([act_peso,peso],axis=1)"
   ]
  },
  {
   "cell_type": "code",
   "execution_count": 205,
   "metadata": {},
   "outputs": [
    {
     "data": {
      "text/html": [
       "<div>\n",
       "<style scoped>\n",
       "    .dataframe tbody tr th:only-of-type {\n",
       "        vertical-align: middle;\n",
       "    }\n",
       "\n",
       "    .dataframe tbody tr th {\n",
       "        vertical-align: top;\n",
       "    }\n",
       "\n",
       "    .dataframe thead th {\n",
       "        text-align: right;\n",
       "    }\n",
       "</style>\n",
       "<table border=\"1\" class=\"dataframe\">\n",
       "  <thead>\n",
       "    <tr style=\"text-align: right;\">\n",
       "      <th></th>\n",
       "      <th>Ticker</th>\n",
       "      <th>Weight (%)</th>\n",
       "      <th>Ticker</th>\n",
       "      <th>Weight (%)</th>\n",
       "      <th>Ticker</th>\n",
       "      <th>Weight (%)</th>\n",
       "      <th>Ticker</th>\n",
       "      <th>Peso (%)</th>\n",
       "      <th>Ticker</th>\n",
       "      <th>Peso (%)</th>\n",
       "      <th>...</th>\n",
       "      <th>Ticker</th>\n",
       "      <th>Weight (%)</th>\n",
       "      <th>Ticker</th>\n",
       "      <th>Weight (%)</th>\n",
       "      <th>Ticker</th>\n",
       "      <th>Weight (%)</th>\n",
       "      <th>Ticker</th>\n",
       "      <th>Weight (%)</th>\n",
       "      <th>Ticker</th>\n",
       "      <th>Weight (%)</th>\n",
       "    </tr>\n",
       "  </thead>\n",
       "  <tbody>\n",
       "    <tr>\n",
       "      <th>0</th>\n",
       "      <td>AAPL</td>\n",
       "      <td>3.58</td>\n",
       "      <td>AAPL</td>\n",
       "      <td>3.71</td>\n",
       "      <td>AAPL</td>\n",
       "      <td>3.67</td>\n",
       "      <td>AAPL</td>\n",
       "      <td>3.86</td>\n",
       "      <td>AAPL</td>\n",
       "      <td>3.61</td>\n",
       "      <td>...</td>\n",
       "      <td>AAPL</td>\n",
       "      <td>3.94</td>\n",
       "      <td>AAPL</td>\n",
       "      <td>3.90</td>\n",
       "      <td>AAPL</td>\n",
       "      <td>3.80</td>\n",
       "      <td>AAPL</td>\n",
       "      <td>3.56</td>\n",
       "      <td>AAPL</td>\n",
       "      <td>3.93</td>\n",
       "    </tr>\n",
       "    <tr>\n",
       "      <th>1</th>\n",
       "      <td>MSFT</td>\n",
       "      <td>2.44</td>\n",
       "      <td>MSFT</td>\n",
       "      <td>2.50</td>\n",
       "      <td>MSFT</td>\n",
       "      <td>2.58</td>\n",
       "      <td>MSFT</td>\n",
       "      <td>2.60</td>\n",
       "      <td>MSFT</td>\n",
       "      <td>2.56</td>\n",
       "      <td>...</td>\n",
       "      <td>MSFT</td>\n",
       "      <td>2.89</td>\n",
       "      <td>MSFT</td>\n",
       "      <td>2.85</td>\n",
       "      <td>MSFT</td>\n",
       "      <td>2.89</td>\n",
       "      <td>MSFT</td>\n",
       "      <td>3.03</td>\n",
       "      <td>MSFT</td>\n",
       "      <td>3.11</td>\n",
       "    </tr>\n",
       "    <tr>\n",
       "      <th>2</th>\n",
       "      <td>XOM</td>\n",
       "      <td>1.65</td>\n",
       "      <td>AMZN</td>\n",
       "      <td>1.73</td>\n",
       "      <td>AMZN</td>\n",
       "      <td>1.78</td>\n",
       "      <td>AMZN</td>\n",
       "      <td>1.90</td>\n",
       "      <td>AMZN</td>\n",
       "      <td>1.85</td>\n",
       "      <td>...</td>\n",
       "      <td>AMZN</td>\n",
       "      <td>1.99</td>\n",
       "      <td>AMZN</td>\n",
       "      <td>2.06</td>\n",
       "      <td>AMZN</td>\n",
       "      <td>2.05</td>\n",
       "      <td>AMZN</td>\n",
       "      <td>2.40</td>\n",
       "      <td>AMZN</td>\n",
       "      <td>2.60</td>\n",
       "    </tr>\n",
       "    <tr>\n",
       "      <th>3</th>\n",
       "      <td>AMZN</td>\n",
       "      <td>1.63</td>\n",
       "      <td>XOM</td>\n",
       "      <td>1.67</td>\n",
       "      <td>FB</td>\n",
       "      <td>1.72</td>\n",
       "      <td>FB</td>\n",
       "      <td>1.72</td>\n",
       "      <td>FB</td>\n",
       "      <td>1.71</td>\n",
       "      <td>...</td>\n",
       "      <td>FB</td>\n",
       "      <td>1.93</td>\n",
       "      <td>FB</td>\n",
       "      <td>1.84</td>\n",
       "      <td>FB</td>\n",
       "      <td>1.84</td>\n",
       "      <td>FB</td>\n",
       "      <td>1.84</td>\n",
       "      <td>FB</td>\n",
       "      <td>1.83</td>\n",
       "    </tr>\n",
       "    <tr>\n",
       "      <th>4</th>\n",
       "      <td>JNJ</td>\n",
       "      <td>1.63</td>\n",
       "      <td>JNJ</td>\n",
       "      <td>1.66</td>\n",
       "      <td>XOM</td>\n",
       "      <td>1.65</td>\n",
       "      <td>JNJ</td>\n",
       "      <td>1.68</td>\n",
       "      <td>JNJ</td>\n",
       "      <td>1.71</td>\n",
       "      <td>...</td>\n",
       "      <td>JNJ</td>\n",
       "      <td>1.69</td>\n",
       "      <td>JNJ</td>\n",
       "      <td>1.64</td>\n",
       "      <td>BRKB</td>\n",
       "      <td>1.67</td>\n",
       "      <td>BRKB</td>\n",
       "      <td>1.71</td>\n",
       "      <td>JPM</td>\n",
       "      <td>1.72</td>\n",
       "    </tr>\n",
       "  </tbody>\n",
       "</table>\n",
       "<p>5 rows × 26 columns</p>\n",
       "</div>"
      ],
      "text/plain": [
       "  Ticker  Weight (%) Ticker  Weight (%) Ticker  Weight (%) Ticker  Peso (%)  \\\n",
       "0   AAPL        3.58   AAPL        3.71   AAPL        3.67   AAPL      3.86   \n",
       "1   MSFT        2.44   MSFT        2.50   MSFT        2.58   MSFT      2.60   \n",
       "2    XOM        1.65   AMZN        1.73   AMZN        1.78   AMZN      1.90   \n",
       "3   AMZN        1.63    XOM        1.67     FB        1.72     FB      1.72   \n",
       "4    JNJ        1.63    JNJ        1.66    XOM        1.65    JNJ      1.68   \n",
       "\n",
       "  Ticker  Peso (%)  ... Ticker  Weight (%) Ticker  Weight (%) Ticker  \\\n",
       "0   AAPL      3.61  ...   AAPL        3.94   AAPL        3.90   AAPL   \n",
       "1   MSFT      2.56  ...   MSFT        2.89   MSFT        2.85   MSFT   \n",
       "2   AMZN      1.85  ...   AMZN        1.99   AMZN        2.06   AMZN   \n",
       "3     FB      1.71  ...     FB        1.93     FB        1.84     FB   \n",
       "4    JNJ      1.71  ...    JNJ        1.69    JNJ        1.64   BRKB   \n",
       "\n",
       "   Weight (%) Ticker  Weight (%) Ticker  Weight (%)  \n",
       "0        3.80   AAPL        3.56   AAPL        3.93  \n",
       "1        2.89   MSFT        3.03   MSFT        3.11  \n",
       "2        2.05   AMZN        2.40   AMZN        2.60  \n",
       "3        1.84     FB        1.84     FB        1.83  \n",
       "4        1.67   BRKB        1.71    JPM        1.72  \n",
       "\n",
       "[5 rows x 26 columns]"
      ]
     },
     "execution_count": 205,
     "metadata": {},
     "output_type": "execute_result"
    }
   ],
   "source": [
    "act_peso.head()"
   ]
  },
  {
   "cell_type": "markdown",
   "metadata": {},
   "source": [
    "### Descargar datos para conocer el precio del ETF durante el mes (NAV)"
   ]
  },
  {
   "cell_type": "code",
   "execution_count": 394,
   "metadata": {},
   "outputs": [
    {
     "data": {
      "text/plain": [
       "(12, 2)"
      ]
     },
     "execution_count": 394,
     "metadata": {},
     "output_type": "execute_result"
    }
   ],
   "source": [
    "fechas = np.array([[\"28/02/2017\",\"28/03/2017\"],\n",
    "         [\"28/03/2017\",\"28/04/2017\"],\n",
    "         [\"28/04/2017\",\"28/05/2017\"],\n",
    "         [\"28/05/2017\",\"28/06/2017\"],\n",
    "         [\"28/06/2017\",\"28/07/2017\"],\n",
    "         [\"28/07/2017\",\"28/08/2017\"],\n",
    "         [\"28/08/2017\",\"28/09/2017\"],\n",
    "         [\"28/09/2017\",\"28/10/2017\"],\n",
    "         [\"28/10/2017\",\"28/11/2017\"],\n",
    "         [\"28/11/2017\",\"28/12/2017\"],\n",
    "         [\"28/12/2017\",\"28/01/2018\"],\n",
    "         [\"28/01/2018\",\"28/02/2019\"]])\n",
    "fechas.shape"
   ]
  },
  {
   "cell_type": "markdown",
   "metadata": {},
   "source": [
    "**Obtener Shares del ETF en el mes**"
   ]
  },
  {
   "cell_type": "code",
   "execution_count": 426,
   "metadata": {},
   "outputs": [
    {
     "data": {
      "text/plain": [
       "(508,)"
      ]
     },
     "execution_count": 426,
     "metadata": {},
     "output_type": "execute_result"
    }
   ],
   "source": [
    "shares = pd.read_csv(\"../Datos/\"+Nombres_archivos[0]+\".csv\",skiprows=10)\n",
    "shares = shares.iloc[:,5][:-2]\n",
    "shares.shape"
   ]
  },
  {
   "cell_type": "code",
   "execution_count": 427,
   "metadata": {},
   "outputs": [],
   "source": [
    "for k in Nombres_archivos[1:]:\n",
    "    data = pd.read_csv(\"../Datos/\"+k+\".csv\",skiprows=10)\n",
    "    data = data.iloc[:,5][:-2]\n",
    "    shares = pd.concat([shares,data],axis=1)\n",
    "shares.columns = Nombres_archivos"
   ]
  },
  {
   "cell_type": "code",
   "execution_count": 428,
   "metadata": {},
   "outputs": [
    {
     "data": {
      "text/html": [
       "<div>\n",
       "<style scoped>\n",
       "    .dataframe tbody tr th:only-of-type {\n",
       "        vertical-align: middle;\n",
       "    }\n",
       "\n",
       "    .dataframe tbody tr th {\n",
       "        vertical-align: top;\n",
       "    }\n",
       "\n",
       "    .dataframe thead th {\n",
       "        text-align: right;\n",
       "    }\n",
       "</style>\n",
       "<table border=\"1\" class=\"dataframe\">\n",
       "  <thead>\n",
       "    <tr style=\"text-align: right;\">\n",
       "      <th></th>\n",
       "      <th>Febrero_2017</th>\n",
       "      <th>Marzo_2017</th>\n",
       "      <th>Abril_2017</th>\n",
       "      <th>Mayo_2017</th>\n",
       "      <th>Junio_2017</th>\n",
       "      <th>Julio_2017</th>\n",
       "      <th>Agosto_2017</th>\n",
       "      <th>Septiembre_2017</th>\n",
       "      <th>Octubre_2017</th>\n",
       "      <th>Noviembre_2017</th>\n",
       "      <th>Diciembre_2017</th>\n",
       "      <th>Enero_2018</th>\n",
       "      <th>Febrero_2018</th>\n",
       "    </tr>\n",
       "  </thead>\n",
       "  <tbody>\n",
       "    <tr>\n",
       "      <th>0</th>\n",
       "      <td>25,594,504.00</td>\n",
       "      <td>26,287,151.00</td>\n",
       "      <td>27,891,639.00</td>\n",
       "      <td>28,422,778.00</td>\n",
       "      <td>29,011,089.00</td>\n",
       "      <td>30,015,436.00</td>\n",
       "      <td>30,583,370.00</td>\n",
       "      <td>30,311,621.00</td>\n",
       "      <td>31,133,333.00</td>\n",
       "      <td>31,825,851.00</td>\n",
       "      <td>31,761,654.00</td>\n",
       "      <td>33,299,304.00</td>\n",
       "      <td>34,128,429.00</td>\n",
       "    </tr>\n",
       "    <tr>\n",
       "      <th>1</th>\n",
       "      <td>37,320,810.00</td>\n",
       "      <td>38,717,851.00</td>\n",
       "      <td>41,081,091.00</td>\n",
       "      <td>41,863,370.00</td>\n",
       "      <td>42,958,853.00</td>\n",
       "      <td>44,446,066.00</td>\n",
       "      <td>45,287,040.00</td>\n",
       "      <td>45,199,779.00</td>\n",
       "      <td>46,424,867.00</td>\n",
       "      <td>47,457,714.00</td>\n",
       "      <td>47,723,487.00</td>\n",
       "      <td>50,033,787.00</td>\n",
       "      <td>51,279,537.00</td>\n",
       "    </tr>\n",
       "    <tr>\n",
       "      <th>2</th>\n",
       "      <td>19,903,660.00</td>\n",
       "      <td>1,984,366.00</td>\n",
       "      <td>2,105,410.00</td>\n",
       "      <td>2,145,589.00</td>\n",
       "      <td>2,207,444.00</td>\n",
       "      <td>13,607,736.00</td>\n",
       "      <td>13,865,221.00</td>\n",
       "      <td>13,910,033.00</td>\n",
       "      <td>2,403,185.00</td>\n",
       "      <td>2,456,752.00</td>\n",
       "      <td>2,474,160.00</td>\n",
       "      <td>2,594,010.00</td>\n",
       "      <td>2,658,635.00</td>\n",
       "    </tr>\n",
       "    <tr>\n",
       "      <th>3</th>\n",
       "      <td>1,893,021.00</td>\n",
       "      <td>20,775,604.00</td>\n",
       "      <td>12,520,797.00</td>\n",
       "      <td>12,758,976.00</td>\n",
       "      <td>13,152,399.00</td>\n",
       "      <td>2,283,851.00</td>\n",
       "      <td>2,327,071.00</td>\n",
       "      <td>2,339,809.00</td>\n",
       "      <td>14,287,025.00</td>\n",
       "      <td>14,604,929.00</td>\n",
       "      <td>14,752,657.00</td>\n",
       "      <td>15,466,657.00</td>\n",
       "      <td>15,851,657.00</td>\n",
       "    </tr>\n",
       "    <tr>\n",
       "      <th>4</th>\n",
       "      <td>13,058,249.00</td>\n",
       "      <td>13,594,908.00</td>\n",
       "      <td>22,043,684.00</td>\n",
       "      <td>14,699,377.00</td>\n",
       "      <td>14,989,132.00</td>\n",
       "      <td>15,508,046.00</td>\n",
       "      <td>15,801,494.00</td>\n",
       "      <td>11,291,685.00</td>\n",
       "      <td>16,177,840.00</td>\n",
       "      <td>16,537,634.00</td>\n",
       "      <td>11,904,651.00</td>\n",
       "      <td>12,480,951.00</td>\n",
       "      <td>23,063,215.00</td>\n",
       "    </tr>\n",
       "  </tbody>\n",
       "</table>\n",
       "</div>"
      ],
      "text/plain": [
       "    Febrero_2017     Marzo_2017     Abril_2017      Mayo_2017     Junio_2017  \\\n",
       "0  25,594,504.00  26,287,151.00  27,891,639.00  28,422,778.00  29,011,089.00   \n",
       "1  37,320,810.00  38,717,851.00  41,081,091.00  41,863,370.00  42,958,853.00   \n",
       "2  19,903,660.00   1,984,366.00   2,105,410.00   2,145,589.00   2,207,444.00   \n",
       "3   1,893,021.00  20,775,604.00  12,520,797.00  12,758,976.00  13,152,399.00   \n",
       "4  13,058,249.00  13,594,908.00  22,043,684.00  14,699,377.00  14,989,132.00   \n",
       "\n",
       "      Julio_2017    Agosto_2017 Septiembre_2017   Octubre_2017 Noviembre_2017  \\\n",
       "0  30,015,436.00  30,583,370.00   30,311,621.00  31,133,333.00  31,825,851.00   \n",
       "1  44,446,066.00  45,287,040.00   45,199,779.00  46,424,867.00  47,457,714.00   \n",
       "2  13,607,736.00  13,865,221.00   13,910,033.00   2,403,185.00   2,456,752.00   \n",
       "3   2,283,851.00   2,327,071.00    2,339,809.00  14,287,025.00  14,604,929.00   \n",
       "4  15,508,046.00  15,801,494.00   11,291,685.00  16,177,840.00  16,537,634.00   \n",
       "\n",
       "  Diciembre_2017     Enero_2018   Febrero_2018  \n",
       "0  31,761,654.00  33,299,304.00  34,128,429.00  \n",
       "1  47,723,487.00  50,033,787.00  51,279,537.00  \n",
       "2   2,474,160.00   2,594,010.00   2,658,635.00  \n",
       "3  14,752,657.00  15,466,657.00  15,851,657.00  \n",
       "4  11,904,651.00  12,480,951.00  23,063,215.00  "
      ]
     },
     "execution_count": 428,
     "metadata": {},
     "output_type": "execute_result"
    }
   ],
   "source": [
    "shares.head()"
   ]
  },
  {
   "cell_type": "code",
   "execution_count": null,
   "metadata": {},
   "outputs": [],
   "source": [
    "# Obtener fechas de rebalanceo\n",
    "precios_nav_mensual = []\n",
    "get_prices= get_closes(act_peso.iloc[:,0].dropna(),start_date=fechas[0][0],end_date=fechas[0][1],freq=\"d\")\n",
    "market_value = pd.DataFrame(get_prices.values*shares.iloc[:,0]).dropna()\n",
    "acciones_circulacion = Net_ASO.loc[\"Shares Outstanding\"][0]\n",
    "precios_nav_mensual.append(np.sum(market_value.values)/acciones_circulacion)"
   ]
  },
  {
   "cell_type": "code",
   "execution_count": 430,
   "metadata": {},
   "outputs": [
    {
     "data": {
      "text/plain": [
       "411150000.0"
      ]
     },
     "execution_count": 430,
     "metadata": {},
     "output_type": "execute_result"
    }
   ],
   "source": []
  },
  {
   "cell_type": "code",
   "execution_count": null,
   "metadata": {},
   "outputs": [],
   "source": []
  }
 ],
 "metadata": {
  "kernelspec": {
   "display_name": "Python 3",
   "language": "python",
   "name": "python3"
  },
  "language_info": {
   "codemirror_mode": {
    "name": "ipython",
    "version": 3
   },
   "file_extension": ".py",
   "mimetype": "text/x-python",
   "name": "python",
   "nbconvert_exporter": "python",
   "pygments_lexer": "ipython3",
   "version": "3.7.3"
  }
 },
 "nbformat": 4,
 "nbformat_minor": 2
}
